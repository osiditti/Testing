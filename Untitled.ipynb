{
 "cells": [
  {
   "cell_type": "code",
   "execution_count": 1,
   "metadata": {},
   "outputs": [
    {
     "name": "stderr",
     "output_type": "stream",
     "text": [
      "From github.com:cs109/Testing\n",
      " * [new branch]      master     -> course/master\n"
     ]
    }
   ],
   "source": [
    "%%bash\n",
    "git fetch course"
   ]
  },
  {
   "cell_type": "code",
   "execution_count": 2,
   "metadata": {},
   "outputs": [
    {
     "name": "stdout",
     "output_type": "stream",
     "text": [
      "/Users/ditti/dropbox/computer_science/cs109-data-science/week0-setup/git/testing\n"
     ]
    }
   ],
   "source": [
    "%%bash\n",
    "pwd"
   ]
  },
  {
   "cell_type": "code",
   "execution_count": 5,
   "metadata": {},
   "outputs": [
    {
     "name": "stdout",
     "output_type": "stream",
     "text": [
      "GIT-BRANCH(1)                     Git Manual                     GIT-BRANCH(1)\n",
      "\n",
      "\n",
      "\n",
      "N\bNA\bAM\bME\bE\n",
      "       git-branch - List, create, or delete branches\n",
      "\n",
      "S\bSY\bYN\bNO\bOP\bPS\bSI\bIS\bS\n",
      "       _\bg_\bi_\bt _\bb_\br_\ba_\bn_\bc_\bh [--color[=<when>] | --no-color] [-r | -a]\n",
      "               [--list] [-v [--abbrev=<length> | --no-abbrev]]\n",
      "               [--column[=<options>] | --no-column] [--sort=<key>]\n",
      "               [(--merged | --no-merged) [<commit>]]\n",
      "               [--contains [<commit]] [--no-contains [<commit>]]\n",
      "               [--points-at <object>] [--format=<format>] [<pattern>...]\n",
      "       _\bg_\bi_\bt _\bb_\br_\ba_\bn_\bc_\bh [--set-upstream | --track | --no-track] [-l] [-f] <branchname> [<start-point>]\n",
      "       _\bg_\bi_\bt _\bb_\br_\ba_\bn_\bc_\bh (--set-upstream-to=<upstream> | -u <upstream>) [<branchname>]\n",
      "       _\bg_\bi_\bt _\bb_\br_\ba_\bn_\bc_\bh --unset-upstream [<branchname>]\n",
      "       _\bg_\bi_\bt _\bb_\br_\ba_\bn_\bc_\bh (-m | -M) [<oldbranch>] <newbranch>\n",
      "       _\bg_\bi_\bt _\bb_\br_\ba_\bn_\bc_\bh (-d | -D) [-r] <branchname>...\n",
      "       _\bg_\bi_\bt _\bb_\br_\ba_\bn_\bc_\bh --edit-description [<branchname>]\n",
      "\n",
      "\n",
      "D\bDE\bES\bSC\bCR\bRI\bIP\bPT\bTI\bIO\bON\bN\n",
      "       If -\b--\b-l\bli\bis\bst\bt is given, or if there are no non-option arguments, existing\n",
      "       branches are listed; the current branch will be highlighted with an\n",
      "       asterisk. Option -\b-r\br causes the remote-tracking branches to be listed,\n",
      "       and option -\b-a\ba shows both local and remote branches. If a <\b<p\bpa\bat\btt\bte\ber\brn\bn>\b> is\n",
      "       given, it is used as a shell wildcard to restrict the output to\n",
      "       matching branches. If multiple patterns are given, a branch is shown if\n",
      "       it matches any of the patterns. Note that when providing a <\b<p\bpa\bat\btt\bte\ber\brn\bn>\b>,\n",
      "       you must use -\b--\b-l\bli\bis\bst\bt; otherwise the command is interpreted as branch\n",
      "       creation.\n",
      "\n",
      "       With -\b--\b-c\bco\bon\bnt\bta\bai\bin\bns\bs, shows only the branches that contain the named commit\n",
      "       (in other words, the branches whose tip commits are descendants of the\n",
      "       named commit), -\b--\b-n\bno\bo-\b-c\bco\bon\bnt\bta\bai\bin\bns\bs inverts it. With -\b--\b-m\bme\ber\brg\bge\bed\bd, only branches\n",
      "       merged into the named commit (i.e. the branches whose tip commits are\n",
      "       reachable from the named commit) will be listed. With -\b--\b-n\bno\bo-\b-m\bme\ber\brg\bge\bed\bd only\n",
      "       branches not merged into the named commit will be listed. If the\n",
      "       <commit> argument is missing it defaults to H\bHE\bEA\bAD\bD (i.e. the tip of the\n",
      "       current branch).\n",
      "\n",
      "       The command's second form creates a new branch head named <branchname>\n",
      "       which points to the current H\bHE\bEA\bAD\bD, or <start-point> if given.\n",
      "\n",
      "       Note that this will create the new branch, but it will not switch the\n",
      "       working tree to it; use \"git checkout <newbranch>\" to switch to the new\n",
      "       branch.\n",
      "\n",
      "       When a local branch is started off a remote-tracking branch, Git sets\n",
      "       up the branch (specifically the b\bbr\bra\ban\bnc\bch\bh.\b.<\b<n\bna\bam\bme\be>\b>.\b.r\bre\bem\bmo\bot\bte\be and\n",
      "       b\bbr\bra\ban\bnc\bch\bh.\b.<\b<n\bna\bam\bme\be>\b>.\b.m\bme\ber\brg\bge\be configuration entries) so that _\bg_\bi_\bt _\bp_\bu_\bl_\bl will\n",
      "       appropriately merge from the remote-tracking branch. This behavior may\n",
      "       be changed via the global b\bbr\bra\ban\bnc\bch\bh.\b.a\bau\but\bto\boS\bSe\bet\btu\bup\bpM\bMe\ber\brg\bge\be configuration flag.\n",
      "       That setting can be overridden by using the -\b--\b-t\btr\bra\bac\bck\bk and -\b--\b-n\bno\bo-\b-t\btr\bra\bac\bck\bk\n",
      "       options, and changed later using g\bgi\bit\bt b\bbr\bra\ban\bnc\bch\bh -\b--\b-s\bse\bet\bt-\b-u\bup\bps\bst\btr\bre\bea\bam\bm-\b-t\bto\bo.\n",
      "\n",
      "       With a -\b-m\bm or -\b-M\bM option, <oldbranch> will be renamed to <newbranch>. If\n",
      "       <oldbranch> had a corresponding reflog, it is renamed to match\n",
      "       <newbranch>, and a reflog entry is created to remember the branch\n",
      "       renaming. If <newbranch> exists, -M must be used to force the rename to\n",
      "       happen.\n",
      "\n",
      "       With a -\b-d\bd or -\b-D\bD option, <\b<b\bbr\bra\ban\bnc\bch\bhn\bna\bam\bme\be>\b> will be deleted. You may specify\n",
      "       more than one branch for deletion. If the branch currently has a reflog\n",
      "       then the reflog will also be deleted.\n",
      "\n",
      "       Use -\b-r\br together with -\b-d\bd to delete remote-tracking branches. Note, that\n",
      "       it only makes sense to delete remote-tracking branches if they no\n",
      "       longer exist in the remote repository or if _\bg_\bi_\bt _\bf_\be_\bt_\bc_\bh was configured\n",
      "       not to fetch them again. See also the _\bp_\br_\bu_\bn_\be subcommand of g\bgi\bit\bt-\b-r\bre\bem\bmo\bot\bte\be(1)\n",
      "       for a way to clean up all obsolete remote-tracking branches.\n",
      "\n",
      "O\bOP\bPT\bTI\bIO\bON\bNS\bS\n",
      "       -d, --delete\n",
      "           Delete a branch. The branch must be fully merged in its upstream\n",
      "           branch, or in H\bHE\bEA\bAD\bD if no upstream was set with -\b--\b-t\btr\bra\bac\bck\bk or\n",
      "           -\b--\b-s\bse\bet\bt-\b-u\bup\bps\bst\btr\bre\bea\bam\bm.\n",
      "\n",
      "       -D\n",
      "           Shortcut for -\b--\b-d\bde\bel\ble\bet\bte\be -\b--\b-f\bfo\bor\brc\bce\be.\n",
      "\n",
      "       -l, --create-reflog\n",
      "           Create the branch's reflog. This activates recording of all changes\n",
      "           made to the branch ref, enabling use of date based sha1 expressions\n",
      "           such as \"<branchname>@{yesterday}\". Note that in non-bare\n",
      "           repositories, reflogs are usually enabled by default by the\n",
      "           c\bco\bor\bre\be.\b.l\blo\bog\bga\bal\bll\blr\bre\bef\bfu\bup\bpd\bda\bat\bte\bes\bs config option. The negated form\n",
      "           -\b--\b-n\bno\bo-\b-c\bcr\bre\bea\bat\bte\be-\b-r\bre\bef\bfl\blo\bog\bg only overrides an earlier -\b--\b-c\bcr\bre\bea\bat\bte\be-\b-r\bre\bef\bfl\blo\bog\bg, but\n",
      "           currently does not negate the setting of c\bco\bor\bre\be.\b.l\blo\bog\bga\bal\bll\blr\bre\bef\bfu\bup\bpd\bda\bat\bte\bes\bs.\n",
      "\n",
      "       -f, --force\n",
      "           Reset <branchname> to <startpoint> if <branchname> exists already.\n",
      "           Without -\b-f\bf_\bg_\bi_\bt _\bb_\br_\ba_\bn_\bc_\bh refuses to change an existing branch. In\n",
      "           combination with -\b-d\bd (or -\b--\b-d\bde\bel\ble\bet\bte\be), allow deleting the branch\n",
      "           irrespective of its merged status. In combination with -\b-m\bm (or\n",
      "           -\b--\b-m\bmo\bov\bve\be), allow renaming the branch even if the new branch name\n",
      "           already exists.\n",
      "\n",
      "       -m, --move\n",
      "           Move/rename a branch and the corresponding reflog.\n",
      "\n",
      "       -M\n",
      "           Shortcut for -\b--\b-m\bmo\bov\bve\be -\b--\b-f\bfo\bor\brc\bce\be.\n",
      "\n",
      "       --color[=<when>]\n",
      "           Color branches to highlight current, local, and remote-tracking\n",
      "           branches. The value must be always (the default), never, or auto.\n",
      "\n",
      "       --no-color\n",
      "           Turn off branch colors, even when the configuration file gives the\n",
      "           default to color output. Same as -\b--\b-c\bco\bol\blo\bor\br=\b=n\bne\bev\bve\ber\br.\n",
      "\n",
      "       -i, --ignore-case\n",
      "           Sorting and filtering branches are case insensitive.\n",
      "\n",
      "       --column[=<options>], --no-column\n",
      "           Display branch listing in columns. See configuration variable\n",
      "           column.branch for option syntax.-\b--\b-c\bco\bol\blu\bum\bmn\bn and -\b--\b-n\bno\bo-\b-c\bco\bol\blu\bum\bmn\bn without\n",
      "           options are equivalent to _\ba_\bl_\bw_\ba_\by_\bs and _\bn_\be_\bv_\be_\br respectively.\n",
      "\n",
      "           This option is only applicable in non-verbose mode.\n",
      "\n",
      "       -r, --remotes\n",
      "           List or delete (if used with -d) the remote-tracking branches.\n",
      "\n",
      "       -a, --all\n",
      "           List both remote-tracking branches and local branches.\n",
      "\n",
      "       --list\n",
      "           List branches. With optional <\b<p\bpa\bat\btt\bte\ber\brn\bn>\b>.\b..\b..\b., e.g.  g\bgi\bit\bt b\bbr\bra\ban\bnc\bch\bh -\b--\b-l\bli\bis\bst\bt\n",
      "           '\b'm\bma\bai\bin\bnt\bt-\b-*\b*'\b', list only the branches that match the pattern(s).\n",
      "\n",
      "           This should not be confused with g\bgi\bit\bt b\bbr\bra\ban\bnc\bch\bh -\b-l\bl <\b<b\bbr\bra\ban\bnc\bch\bhn\bna\bam\bme\be>\b>, which\n",
      "           creates a branch named <\b<b\bbr\bra\ban\bnc\bch\bhn\bna\bam\bme\be>\b> with a reflog. See\n",
      "           -\b--\b-c\bcr\bre\bea\bat\bte\be-\b-r\bre\bef\bfl\blo\bog\bg above for details.\n",
      "\n",
      "       -v, -vv, --verbose\n",
      "           When in list mode, show sha1 and commit subject line for each head,\n",
      "           along with relationship to upstream branch (if any). If given\n",
      "           twice, print the name of the upstream branch, as well (see also g\bgi\bit\bt\n",
      "           r\bre\bem\bmo\bot\bte\be s\bsh\bho\bow\bw <\b<r\bre\bem\bmo\bot\bte\be>\b>).\n",
      "\n",
      "       -q, --quiet\n",
      "           Be more quiet when creating or deleting a branch, suppressing\n",
      "           non-error messages.\n",
      "\n",
      "       --abbrev=<length>\n",
      "           Alter the sha1's minimum display length in the output listing. The\n",
      "           default value is 7 and can be overridden by the c\bco\bor\bre\be.\b.a\bab\bbb\bbr\bre\bev\bv config\n",
      "           option.\n",
      "\n",
      "       --no-abbrev\n",
      "           Display the full sha1s in the output listing rather than\n",
      "           abbreviating them.\n",
      "\n",
      "       -t, --track\n",
      "           When creating a new branch, set up b\bbr\bra\ban\bnc\bch\bh.\b.<\b<n\bna\bam\bme\be>\b>.\b.r\bre\bem\bmo\bot\bte\be and\n",
      "           b\bbr\bra\ban\bnc\bch\bh.\b.<\b<n\bna\bam\bme\be>\b>.\b.m\bme\ber\brg\bge\be configuration entries to mark the start-point\n",
      "           branch as \"upstream\" from the new branch. This configuration will\n",
      "           tell git to show the relationship between the two branches in g\bgi\bit\bt\n",
      "           s\bst\bta\bat\btu\bus\bs and g\bgi\bit\bt b\bbr\bra\ban\bnc\bch\bh -\b-v\bv. Furthermore, it directs g\bgi\bit\bt p\bpu\bul\bll\bl without\n",
      "           arguments to pull from the upstream when the new branch is checked\n",
      "           out.\n",
      "\n",
      "           This behavior is the default when the start point is a\n",
      "           remote-tracking branch. Set the branch.autoSetupMerge configuration\n",
      "           variable to f\bfa\bal\bls\bse\be if you want g\bgi\bit\bt c\bch\bhe\bec\bck\bko\bou\but\bt and g\bgi\bit\bt b\bbr\bra\ban\bnc\bch\bh to always\n",
      "           behave as if -\b--\b-n\bno\bo-\b-t\btr\bra\bac\bck\bk were given. Set it to a\bal\blw\bwa\bay\bys\bs if you want\n",
      "           this behavior when the start-point is either a local or\n",
      "           remote-tracking branch.\n",
      "\n",
      "       --no-track\n",
      "           Do not set up \"upstream\" configuration, even if the\n",
      "           branch.autoSetupMerge configuration variable is true.\n",
      "\n",
      "       --set-upstream\n",
      "           If specified branch does not exist yet or if -\b--\b-f\bfo\bor\brc\bce\be has been\n",
      "           given, acts exactly like -\b--\b-t\btr\bra\bac\bck\bk. Otherwise sets up configuration\n",
      "           like -\b--\b-t\btr\bra\bac\bck\bk would when creating the branch, except that where\n",
      "           branch points to is not changed.\n",
      "\n",
      "       -u <upstream>, --set-upstream-to=<upstream>\n",
      "           Set up <branchname>'s tracking information so <upstream> is\n",
      "           considered <branchname>'s upstream branch. If no <branchname> is\n",
      "           specified, then it defaults to the current branch.\n",
      "\n",
      "       --unset-upstream\n",
      "           Remove the upstream information for <branchname>. If no branch is\n",
      "           specified it defaults to the current branch.\n",
      "\n",
      "       --edit-description\n",
      "           Open an editor and edit the text to explain what the branch is for,\n",
      "           to be used by various other commands (e.g.  f\bfo\bor\brm\bma\bat\bt-\b-p\bpa\bat\btc\bch\bh,\n",
      "           r\bre\beq\bqu\bue\bes\bst\bt-\b-p\bpu\bul\bll\bl, and m\bme\ber\brg\bge\be (if enabled)). Multi-line explanations may\n",
      "           be used.\n",
      "\n",
      "       --contains [<commit>]\n",
      "           Only list branches which contain the specified commit (HEAD if not\n",
      "           specified). Implies -\b--\b-l\bli\bis\bst\bt.\n",
      "\n",
      "       --no-contains [<commit>]\n",
      "           Only list branches which don't contain the specified commit (HEAD\n",
      "           if not specified). Implies -\b--\b-l\bli\bis\bst\bt.\n",
      "\n",
      "       --merged [<commit>]\n",
      "           Only list branches whose tips are reachable from the specified\n",
      "           commit (HEAD if not specified). Implies -\b--\b-l\bli\bis\bst\bt, incompatible with\n",
      "           -\b--\b-n\bno\bo-\b-m\bme\ber\brg\bge\bed\bd.\n",
      "\n",
      "       --no-merged [<commit>]\n",
      "           Only list branches whose tips are not reachable from the specified\n",
      "           commit (HEAD if not specified). Implies -\b--\b-l\bli\bis\bst\bt, incompatible with\n",
      "           -\b--\b-m\bme\ber\brg\bge\bed\bd.\n",
      "\n",
      "       <branchname>\n",
      "           The name of the branch to create or delete. The new branch name\n",
      "           must pass all checks defined by g\bgi\bit\bt-\b-c\bch\bhe\bec\bck\bk-\b-r\bre\bef\bf-\b-f\bfo\bor\brm\bma\bat\bt(1). Some of\n",
      "           these checks may restrict the characters allowed in a branch name.\n",
      "\n",
      "       <start-point>\n",
      "           The new branch head will point to this commit. It may be given as a\n",
      "           branch name, a commit-id, or a tag. If this option is omitted, the\n",
      "           current HEAD will be used instead.\n",
      "\n",
      "       <oldbranch>\n",
      "           The name of an existing branch to rename.\n",
      "\n",
      "       <newbranch>\n",
      "           The new name for an existing branch. The same restrictions as for\n",
      "           <branchname> apply.\n",
      "\n",
      "       --sort=<key>\n",
      "           Sort based on the key given. Prefix -\b- to sort in descending order\n",
      "           of the value. You may use the --sort=<key> option multiple times,\n",
      "           in which case the last key becomes the primary key. The keys\n",
      "           supported are the same as those in g\bgi\bit\bt f\bfo\bor\br-\b-e\bea\bac\bch\bh-\b-r\bre\bef\bf. Sort order\n",
      "           defaults to sorting based on the full refname (including r\bre\bef\bfs\bs/\b/.\b..\b..\b.\n",
      "           prefix). This lists detached HEAD (if present) first, then local\n",
      "           branches and finally remote-tracking branches.\n",
      "\n",
      "       --points-at <object>\n",
      "           Only list branches of the given object.\n",
      "\n",
      "       --format <format>\n",
      "           A string that interpolates %\b%(\b(f\bfi\bie\bel\bld\bdn\bna\bam\bme\be)\b) from the object pointed at\n",
      "           by a ref being shown. The format is the same as that of g\bgi\bit\bt-\b-f\bfo\bor\br-\b-\n",
      "           e\bea\bac\bch\bh-\b-r\bre\bef\bf(1).\n",
      "\n",
      "E\bEX\bXA\bAM\bMP\bPL\bLE\bES\bS\n",
      "       Start development from a known tag\n",
      "\n",
      "               $ git clone git://git.kernel.org/pub/scm/.../linux-2.6 my2.6\n",
      "               $ cd my2.6\n",
      "               $ git branch my2.6.14 v2.6.14   (\b(1\b1)\b)\n",
      "               $ git checkout my2.6.14\n",
      "\n",
      "           1\b1.\b. This step and the next one could be combined into a single step\n",
      "           with \"checkout -b my2.6.14 v2.6.14\".\n",
      "\n",
      "       Delete an unneeded branch\n",
      "\n",
      "               $ git clone git://git.kernel.org/.../git.git my.git\n",
      "               $ cd my.git\n",
      "               $ git branch -d -r origin/todo origin/html origin/man   (\b(1\b1)\b)\n",
      "               $ git branch -D test                                    (\b(2\b2)\b)\n",
      "\n",
      "           1\b1.\b. Delete the remote-tracking branches \"todo\", \"html\" and \"man\".\n",
      "           The next _\bf_\be_\bt_\bc_\bh or _\bp_\bu_\bl_\bl will create them again unless you configure\n",
      "           them not to. See g\bgi\bit\bt-\b-f\bfe\bet\btc\bch\bh(1).\n",
      "           2\b2.\b. Delete the \"test\" branch even if the \"master\" branch (or\n",
      "           whichever branch is currently checked out) does not have all\n",
      "           commits from the test branch.\n",
      "\n",
      "N\bNO\bOT\bTE\bES\bS\n",
      "       If you are creating a branch that you want to checkout immediately, it\n",
      "       is easier to use the git checkout command with its -\b-b\bb option to create\n",
      "       a branch and check it out with a single command.\n",
      "\n",
      "       The options -\b--\b-c\bco\bon\bnt\bta\bai\bin\bns\bs, -\b--\b-n\bno\bo-\b-c\bco\bon\bnt\bta\bai\bin\bns\bs, -\b--\b-m\bme\ber\brg\bge\bed\bd and -\b--\b-n\bno\bo-\b-m\bme\ber\brg\bge\bed\bd serve\n",
      "       four related but different purposes:\n",
      "\n",
      "       +\bo   -\b--\b-c\bco\bon\bnt\bta\bai\bin\bns\bs <\b<c\bco\bom\bmm\bmi\bit\bt>\b> is used to find all branches which will need\n",
      "           special attention if <commit> were to be rebased or amended, since\n",
      "           those branches contain the specified <commit>.\n",
      "\n",
      "       +\bo   -\b--\b-n\bno\bo-\b-c\bco\bon\bnt\bta\bai\bin\bns\bs <\b<c\bco\bom\bmm\bmi\bit\bt>\b> is the inverse of that, i.e. branches that\n",
      "           don't contain the specified <commit>.\n",
      "\n",
      "       +\bo   -\b--\b-m\bme\ber\brg\bge\bed\bd is used to find all branches which can be safely deleted,\n",
      "           since those branches are fully contained by HEAD.\n",
      "\n",
      "       +\bo   -\b--\b-n\bno\bo-\b-m\bme\ber\brg\bge\bed\bd is used to find branches which are candidates for\n",
      "           merging into HEAD, since those branches are not fully contained by\n",
      "           HEAD.\n",
      "\n",
      "S\bSE\bEE\bE A\bAL\bLS\bSO\bO\n",
      "       g\bgi\bit\bt-\b-c\bch\bhe\bec\bck\bk-\b-r\bre\bef\bf-\b-f\bfo\bor\brm\bma\bat\bt(1), g\bgi\bit\bt-\b-f\bfe\bet\btc\bch\bh(1), g\bgi\bit\bt-\b-r\bre\bem\bmo\bot\bte\be(1), \"\b\"U\bUn\bnd\bde\ber\brs\bst\bta\ban\bnd\bdi\bin\bng\bg\n",
      "       h\bhi\bis\bst\bto\bor\bry\by:\b: W\bWh\bha\bat\bt i\bis\bs a\ba b\bbr\bra\ban\bnc\bch\bh?\b?\"\b\"[1] in the Git User's Manual.\n",
      "\n",
      "G\bGI\bIT\bT\n",
      "       Part of the g\bgi\bit\bt(1) suite\n",
      "\n",
      "N\bNO\bOT\bTE\bES\bS\n",
      "        1. \"Understanding history: What is a branch?\"\n",
      "           git-htmldocs/user-manual.html#what-is-a-branch\n",
      "\n",
      "\n",
      "\n",
      "Git 2.14.1                        08/09/2017                     GIT-BRANCH(1)\n"
     ]
    }
   ],
   "source": [
    "%%bash\n",
    "man git-branch"
   ]
  },
  {
   "cell_type": "code",
   "execution_count": 6,
   "metadata": {},
   "outputs": [
    {
     "name": "stdout",
     "output_type": "stream",
     "text": [
      "* master                0c36f64 [origin/master] Said hello to myself\n",
      "  remotes/course/master 7ba94f7 added a line in readme\n",
      "  remotes/origin/HEAD   -> origin/master\n",
      "  remotes/origin/master 0c36f64 Said hello to myself\n"
     ]
    }
   ],
   "source": [
    "%%bash\n",
    "git branch -avv"
   ]
  },
  {
   "cell_type": "code",
   "execution_count": 7,
   "metadata": {},
   "outputs": [
    {
     "name": "stdout",
     "output_type": "stream",
     "text": [
      "Already up-to-date.\n"
     ]
    }
   ],
   "source": [
    "%%bash\n",
    "git merge course/master"
   ]
  },
  {
   "cell_type": "code",
   "execution_count": 8,
   "metadata": {},
   "outputs": [
    {
     "name": "stdout",
     "output_type": "stream",
     "text": [
      "On branch master\n",
      "Your branch is up-to-date with 'origin/master'.\n",
      "Untracked files:\n",
      "  (use \"git add <file>...\" to include in what will be committed)\n",
      "\n",
      "\t.Rhistory\n",
      "\t.ipynb_checkpoints/\n",
      "\tUntitled.ipynb\n",
      "\n",
      "nothing added to commit but untracked files present (use \"git add\" to track)\n"
     ]
    }
   ],
   "source": [
    "%%bash\n",
    "git status"
   ]
  },
  {
   "cell_type": "code",
   "execution_count": 9,
   "metadata": {},
   "outputs": [
    {
     "name": "stdout",
     "output_type": "stream",
     "text": [
      "commit 0c36f64f26c90daef0834726d6cd5bfd8901d5e8\n",
      "Author: Edit Osikovicz <osiditti@gmail.com>\n",
      "Date:   Thu Nov 2 16:06:35 2017 +0100\n",
      "\n",
      "    Said hello to myself\n",
      "\n",
      "commit 7ba94f7e4ed9506b0b3eab02e03d516c2b38977e\n",
      "Author: Rahul Dave <rahuldave@gmail.com>\n",
      "Date:   Tue Sep 1 22:53:03 2015 -0400\n",
      "\n",
      "    added a line in readme\n",
      "\n",
      "commit 3a2909aa790f041f1426e51565674165e52acdc8\n",
      "Author: Rahul Dave <rahuldave@gmail.com>\n",
      "Date:   Fri Aug 28 02:44:21 2015 -0400\n",
      "\n",
      "    Added a test file to demonstrate git features\n"
     ]
    }
   ],
   "source": [
    "%%bash\n",
    "git log -3"
   ]
  },
  {
   "cell_type": "code",
   "execution_count": 10,
   "metadata": {},
   "outputs": [
    {
     "name": "stdout",
     "output_type": "stream",
     "text": [
      "On branch master\n",
      "Your branch is up-to-date with 'origin/master'.\n",
      "Untracked files:\n",
      "  (use \"git add <file>...\" to include in what will be committed)\n",
      "\n",
      "\t.Rhistory\n",
      "\t.ipynb_checkpoints/\n",
      "\tUntitled.ipynb\n",
      "\n",
      "nothing added to commit but untracked files present (use \"git add\" to track)\n"
     ]
    },
    {
     "name": "stderr",
     "output_type": "stream",
     "text": [
      "Everything up-to-date\n"
     ]
    }
   ],
   "source": [
    "%%bash\n",
    "git push\n",
    "git status"
   ]
  },
  {
   "cell_type": "code",
   "execution_count": 15,
   "metadata": {},
   "outputs": [
    {
     "name": "stderr",
     "output_type": "stream",
     "text": [
      "Switched to branch 'my-new-branch'\n"
     ]
    }
   ],
   "source": [
    "%%bash\n",
    "git checkout my-new-branch"
   ]
  },
  {
   "cell_type": "code",
   "execution_count": 16,
   "metadata": {},
   "outputs": [
    {
     "name": "stdout",
     "output_type": "stream",
     "text": [
      "  master\n",
      "* my-new-branch\n"
     ]
    }
   ],
   "source": [
    "%%bash\n",
    "git branch"
   ]
  },
  {
   "cell_type": "code",
   "execution_count": 17,
   "metadata": {},
   "outputs": [
    {
     "name": "stderr",
     "output_type": "stream",
     "text": [
      "Switched to a new branch 'newbranch2'\n"
     ]
    }
   ],
   "source": [
    "%%bash\n",
    "git checkout -b newbranch2"
   ]
  },
  {
   "cell_type": "code",
   "execution_count": 18,
   "metadata": {},
   "outputs": [
    {
     "name": "stdout",
     "output_type": "stream",
     "text": [
      "  master\n",
      "  my-new-branch\n",
      "* newbranch2\n"
     ]
    }
   ],
   "source": [
    "%%bash\n",
    "git branch"
   ]
  },
  {
   "cell_type": "code",
   "execution_count": 19,
   "metadata": {},
   "outputs": [
    {
     "name": "stdout",
     "output_type": "stream",
     "text": [
      "LICENSE\n",
      "README.md\n",
      "Untitled.ipynb\n",
      "hello.md\n"
     ]
    }
   ],
   "source": [
    "%%bash\n",
    "ls"
   ]
  },
  {
   "cell_type": "code",
   "execution_count": 20,
   "metadata": {},
   "outputs": [
    {
     "name": "stdout",
     "output_type": "stream",
     "text": [
      "On branch newbranch2\n",
      "Untracked files:\n",
      "  (use \"git add <file>...\" to include in what will be committed)\n",
      "\n",
      "\t.Rhistory\n",
      "\t.ipynb_checkpoints/\n",
      "\tUntitled.ipynb\n",
      "\n",
      "nothing added to commit but untracked files present (use \"git add\" to track)\n"
     ]
    }
   ],
   "source": [
    "%%bash\n",
    "git status"
   ]
  },
  {
   "cell_type": "code",
   "execution_count": 21,
   "metadata": {},
   "outputs": [
    {
     "name": "stdout",
     "output_type": "stream",
     "text": [
      "On branch newbranch2\n",
      "Untracked files:\n",
      "  (use \"git add <file>...\" to include in what will be committed)\n",
      "\n",
      "\t.Rhistory\n",
      "\t.ipynb_checkpoints/\n",
      "\tUntitled.ipynb\n",
      "\tworld.md\n",
      "\n",
      "nothing added to commit but untracked files present (use \"git add\" to track)\n"
     ]
    }
   ],
   "source": [
    "%%bash\n",
    "echo '#Hello world!' > world.md\n",
    "git status"
   ]
  },
  {
   "cell_type": "code",
   "execution_count": 22,
   "metadata": {},
   "outputs": [
    {
     "name": "stdout",
     "output_type": "stream",
     "text": [
      "On branch newbranch2\n",
      "Changes to be committed:\n",
      "  (use \"git reset HEAD <file>...\" to unstage)\n",
      "\n",
      "\tnew file:   .Rhistory\n",
      "\tnew file:   .ipynb_checkpoints/Untitled-checkpoint.ipynb\n",
      "\tnew file:   Untitled.ipynb\n",
      "\tnew file:   world.md\n",
      "\n"
     ]
    }
   ],
   "source": [
    "%%bash\n",
    "git add .\n",
    "git status"
   ]
  },
  {
   "cell_type": "code",
   "execution_count": null,
   "metadata": {
    "collapsed": true
   },
   "outputs": [],
   "source": []
  }
 ],
 "metadata": {
  "kernelspec": {
   "display_name": "Python 2",
   "language": "python",
   "name": "python2"
  },
  "language_info": {
   "codemirror_mode": {
    "name": "ipython",
    "version": 2
   },
   "file_extension": ".py",
   "mimetype": "text/x-python",
   "name": "python",
   "nbconvert_exporter": "python",
   "pygments_lexer": "ipython2",
   "version": "2.7.14"
  }
 },
 "nbformat": 4,
 "nbformat_minor": 2
}
